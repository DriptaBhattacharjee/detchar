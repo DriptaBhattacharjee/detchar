{
 "cells": [
  {
   "cell_type": "code",
   "execution_count": 1,
   "metadata": {
    "collapsed": true
   },
   "outputs": [],
   "source": [
    "%matplotlib inline\n",
    "import matplotlib.pyplot as plt"
   ]
  },
  {
   "cell_type": "code",
   "execution_count": 2,
   "metadata": {
    "collapsed": false
   },
   "outputs": [],
   "source": [
    "import numpy as np\n",
    "from numpy.fft import fft,ifft,rfft,irfft\n",
    "import scipy.signal as sig\n",
    "from scipy.interpolate import interp1d"
   ]
  },
  {
   "cell_type": "markdown",
   "metadata": {},
   "source": [
    "We're going to simulate data discretely sampled in time. We need to set a sample rate in Hz. The highest resolvable frequency, the Nyquist frequency, is half the sample rate. We also need to decide how long the simulated data record should last.\n",
    "\n",
    "Note that we'll assume everything is real in the time domain, so we use rFFT and rIFFT. That just means that we're only keeping positive frequencies in the frequency domain."
   ]
  },
  {
   "cell_type": "code",
   "execution_count": 7,
   "metadata": {
    "collapsed": true
   },
   "outputs": [],
   "source": [
    "sample_rate = 4096\n",
    "nyquist = sample_rate/2\n",
    "time_length_seconds = 512"
   ]
  },
  {
   "cell_type": "markdown",
   "metadata": {},
   "source": [
    "## Generate fake Gaussian noise"
   ]
  },
  {
   "cell_type": "markdown",
   "metadata": {},
   "source": [
    "We'll start by making some fake noise to practice on. The procedure for making colored Gaussian noise is:\n",
    " 1. Generate white Gaussian noise by many independent draws from a normal distribution.\n",
    " 1. Transform this to the frequency domain.\n",
    " 1. Choose the spectrum you want to simulate, sampled at the same frequencies as the frequency-domain white noise.\n",
    " 1. Multiply the FD white noise by the ASD of the desired spectrum.\n",
    " 1. Transform this back to the time domain.\n",
    " 1. Cut off the start and end of this data, to eliminate the filter wraparond. We cut off a quarter of the noise stream at either end, which should be more than enough with such a smooth PSD."
   ]
  },
  {
   "cell_type": "code",
   "execution_count": 8,
   "metadata": {
    "collapsed": false
   },
   "outputs": [],
   "source": [
    "# Make the data twice as long so we can cut off the wrap-around\n",
    "num_noise_samples=2*time_length_seconds*sample_rate\n",
    "white_noise_fd=rfft(np.random.normal(size=num_noise_samples))\n",
    "sim_freqs=np.arange(len(white_noise_fd))/(2.*time_length_seconds)"
   ]
  },
  {
   "cell_type": "markdown",
   "metadata": {},
   "source": [
    "We'll make an analytical PSD that has about the same shape as H1's noise. We put in a fake highpass filter around 8 Hz so we don't have infinite noise at low frequency, and to match what the calibration code does (it only reconstructs accurately above 10 Hz)."
   ]
  },
  {
   "cell_type": "code",
   "execution_count": 9,
   "metadata": {
    "collapsed": false
   },
   "outputs": [
    {
     "name": "stderr",
     "output_type": "stream",
     "text": [
      "/opt/local/Library/Frameworks/Python.framework/Versions/2.7/lib/python2.7/site-packages/ipykernel/__main__.py:1: RuntimeWarning: divide by zero encountered in power\n",
      "  if __name__ == '__main__':\n"
     ]
    }
   ],
   "source": [
    "psd=(sim_freqs/40.)**-10+(sim_freqs/70.)**-4+0.5+1.397e-6*(sim_freqs)**2\n",
    "# Put in a fake highpass around 8 Hz, so we don't have too much low frequency\n",
    "to_bin=2*time_length_seconds\n",
    "f_pass, f_min = 8., 10.\n",
    "idx1=int(to_bin*f_pass)\n",
    "idx2=int(to_bin*f_min)\n",
    "psd[:idx1]=psd[idx2]*(sim_freqs[:idx1]/f_pass)**2\n",
    "psd[idx1:idx2]=psd[idx2]"
   ]
  },
  {
   "cell_type": "code",
   "execution_count": 10,
   "metadata": {
    "collapsed": false
   },
   "outputs": [],
   "source": [
    "# Generate the noise\n",
    "colored_noise_td = np.sqrt(float(nyquist))*irfft(np.sqrt(psd)*white_noise_fd)\n",
    "colored_noise_td = colored_noise_td[len(colored_noise_td)/4:-len(colored_noise_td)/4]"
   ]
  },
  {
   "cell_type": "code",
   "execution_count": 11,
   "metadata": {
    "collapsed": true
   },
   "outputs": [],
   "source": [
    "def welch_asd(data, fft_len_sec, overlap=0.5, window='hanning'):\n",
    "    \"\"\"Measure the ASD using the Welch method of averaging\n",
    "    estimates on shorter overlapping segments of the data.\"\"\"\n",
    "    assert 0. <= overlap < 1.\n",
    "    ff, tmp = sig.welch(data, fs=sample_rate, window=window,\n",
    "                        nperseg=fft_len_sec*sample_rate,\n",
    "                        noverlap=overlap*fft_len_sec*sample_rate)\n",
    "    return ff, np.sqrt(tmp)"
   ]
  },
  {
   "cell_type": "code",
   "execution_count": 12,
   "metadata": {
    "collapsed": false
   },
   "outputs": [],
   "source": [
    "ff, measured_asd = welch_asd(colored_noise_td, window='hanning', fft_len_sec=4)"
   ]
  },
  {
   "cell_type": "code",
   "execution_count": 13,
   "metadata": {
    "collapsed": false
   },
   "outputs": [
    {
     "data": {
      "text/plain": [
       "(0.5, 2000.0)"
      ]
     },
     "execution_count": 13,
     "metadata": {},
     "output_type": "execute_result"
    },
    {
     "data": {
      "image/png": "[encoded data removed]",
      "text/plain": [
       "<matplotlib.figure.Figure at 0x10dbe1190>"
      ]
     },
     "metadata": {},
     "output_type": "display_data"
    }
   ],
   "source": [
    "plt.loglog(ff, measured_asd)\n",
    "plt.loglog(sim_freqs, np.sqrt(psd), c='k', ls=':')\n",
    "plt.xlim(4,nyquist)\n",
    "plt.ylim(0.5,2e3)"
   ]
  },
  {
   "cell_type": "markdown",
   "metadata": {},
   "source": [
    "## Make a whitening filter"
   ]
  },
  {
   "cell_type": "markdown",
   "metadata": {},
   "source": [
    "We need to make a whitening filter for the data. This is an FIR filter that, when applied to our colored noise, produces a decorrelated or 'white' time series. There are many ways to calculate this, and actually many different filters that would achieve this. We'll choose to make ours zero-phase -- the impulse response is acausal and symmetric around t=0. We'll use FFT-based methods for the design because they are simple and efficient.\n",
    "\n",
    "First, we make a good estimate of the ASD, with enough frequency resolution to capture the important features. Then we do 1/asd to get a rough whitening filter. We zero out any frequencies we want to throw away (in this case, below 10 Hz because strain is not accurate down there). We transform to the time domain to get an impulse response, and roll it forwards so the response is centered at half the length of the filter.\n",
    "\n",
    "Then we truncate it with a window function to make sure that it goes to zero smoothly. This is our time-domain FIR filter. The t=0 of this acausal filter is still in the middle, so make sure to compensate for the filter delay if using it this way.\n",
    "\n",
    "The inverting and Fourier transforming it part may not be quite the best thing to do. Even better might be to measure the ASD at the desired resolution, then interpolate to higher resolution. That gives more space when computing the impulse response to avoid wraparound issues. The details of the interpolation shouldn't matter since you're truncating it anyway."
   ]
  },
  {
   "cell_type": "code",
   "execution_count": 16,
   "metadata": {
    "collapsed": false
   },
   "outputs": [],
   "source": [
    "def make_invasd(data, invasd_len=8, f_min=10.):\n",
    "    \"\"\"invasd_len is the length in seconds of the desired impulse response (the full width)\"\"\"\n",
    "    ff, asd = welch_asd(data, window='hanning', fft_len_sec=invasd_len)\n",
    "    invasd = 1./asd\n",
    "    invasd[:int(f_min*invasd_len)]=0.\n",
    "    invasd_td = irfft(invasd)\n",
    "    invasd_td = sig.hann(len(invasd_td))*np.roll(invasd_td, len(invasd_td)/2)\n",
    "    return invasd_td"
   ]
  },
  {
   "cell_type": "code",
   "execution_count": 17,
   "metadata": {
    "collapsed": false
   },
   "outputs": [],
   "source": [
    "invasd_len=8\n",
    "invasd_trunc = make_invasd(colored_noise_td, invasd_len=invasd_len, f_min=10.)"
   ]
  },
  {
   "cell_type": "code",
   "execution_count": 18,
   "metadata": {
    "collapsed": false
   },
   "outputs": [
    {
     "data": {
      "text/plain": [
       "[<matplotlib.lines.Line2D at 0x12650e110>]"
      ]
     },
     "execution_count": 18,
     "metadata": {},
     "output_type": "execute_result"
    },
    {
     "data": {
      "image/png": "[encoded data removed]",
      "text/plain": [
       "<matplotlib.figure.Figure at 0x10db125d0>"
      ]
     },
     "metadata": {},
     "output_type": "display_data"
    }
   ],
   "source": [
    "plt.plot(invasd_trunc)"
   ]
  },
  {
   "cell_type": "markdown",
   "metadata": {},
   "source": [
    "To apply the filter efficiently, we can pad it with zeros to the length of the data then transform it to the frequency domain. We could either compensate for the time delay explicitly, or just take the absolute value of the filter which will make it zero-phase. We multiply this by the FFT of the data, and IFFT them back.\n",
    "\n",
    "This is completely equivalent to just applying the FIR filter by convolution in the time domain."
   ]
  },
  {
   "cell_type": "code",
   "execution_count": 21,
   "metadata": {
    "collapsed": false
   },
   "outputs": [],
   "source": [
    "tmp = invasd_trunc.copy()\n",
    "tmp.resize(len(colored_noise_td))\n",
    "fd_filter=np.abs(rfft(tmp))\n",
    "whitened_strain_corrupt = irfft(fd_filter*rfft(colored_noise_td))"
   ]
  },
  {
   "cell_type": "code",
   "execution_count": 22,
   "metadata": {
    "collapsed": false
   },
   "outputs": [
    {
     "data": {
      "text/plain": [
       "[<matplotlib.lines.Line2D at 0x12eb50810>]"
      ]
     },
     "execution_count": 22,
     "metadata": {},
     "output_type": "execute_result"
    },
    {
     "data": {
      "image/png": "[encoded data removed]",
      "text/plain": [
       "<matplotlib.figure.Figure at 0x10aaadbd0>"
      ]
     },
     "metadata": {},
     "output_type": "display_data"
    }
   ],
   "source": [
    "plt.plot(whitened_strain_corrupt)"
   ]
  },
  {
   "cell_type": "markdown",
   "metadata": {},
   "source": [
    "Here, I've left the filter corruption on. We need to remove half the total length of the filter on both sides because of the filter wrapround. "
   ]
  },
  {
   "cell_type": "code",
   "execution_count": 23,
   "metadata": {
    "collapsed": true
   },
   "outputs": [],
   "source": [
    "whitened_strain_corrupt = whitened_strain[invasd_len*sample_rate/2:-invasd_len*sample_rate/2]"
   ]
  },
  {
   "cell_type": "markdown",
   "metadata": {},
   "source": [
    "Now we can check the spectrum of the whitened data. It should be flat, at least where the assumptions in deriving the filter are valid."
   ]
  },
  {
   "cell_type": "code",
   "execution_count": 25,
   "metadata": {
    "collapsed": false
   },
   "outputs": [
    {
     "data": {
      "text/plain": [
       "(0.1, 10)"
      ]
     },
     "execution_count": 25,
     "metadata": {},
     "output_type": "execute_result"
    },
    {
     "data": {
      "image/png": "[encoded data removed]",
      "text/plain": [
       "<matplotlib.figure.Figure at 0x12eb50410>"
      ]
     },
     "metadata": {},
     "output_type": "display_data"
    }
   ],
   "source": [
    "ff, asdw = welch_asd(whitened_strain, window='hanning', fft_len_sec=4)\n",
    "plt.loglog(ff, asdw)\n",
    "plt.xlim(1,1000)\n",
    "plt.ylim(0.1,10)"
   ]
  },
  {
   "cell_type": "markdown",
   "metadata": {},
   "source": [
    "Perfectly flat everywhere, with the data below 10 Hz removed."
   ]
  },
  {
   "cell_type": "markdown",
   "metadata": {},
   "source": [
    "The line is completely removed, but the rest of the data is affected as well. To only notch around the line would require either a much more complicated FIR filter, or a simple IIR filter with poles to cancel the zeroes when not close to the line."
   ]
  }
 ],
 "metadata": {
  "kernelspec": {
   "display_name": "Python 2",
   "language": "python",
   "name": "python2"
  },
  "language_info": {
   "codemirror_mode": {
    "name": "ipython",
    "version": 2
   },
   "file_extension": ".py",
   "mimetype": "text/x-python",
   "name": "python",
   "nbconvert_exporter": "python",
   "pygments_lexer": "ipython2",
   "version": "2.7.13"
  }
 },
 "nbformat": 4,
 "nbformat_minor": 2
}
